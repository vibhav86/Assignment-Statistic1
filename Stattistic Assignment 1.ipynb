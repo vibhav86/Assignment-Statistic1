{
 "cells": [
  {
   "cell_type": "code",
   "execution_count": 1,
   "metadata": {},
   "outputs": [],
   "source": [
    "import numpy as np"
   ]
  },
  {
   "cell_type": "code",
   "execution_count": 2,
   "metadata": {},
   "outputs": [],
   "source": [
    "#Task 1:You survey households in your area to find the average rent they are paying. Find the standard deviation from the following data:"
   ]
  },
  {
   "cell_type": "code",
   "execution_count": 7,
   "metadata": {},
   "outputs": [
    {
     "name": "stdout",
     "output_type": "stream",
     "text": [
      "Average rent paid by the householdsfor the sample information collected :  1158.33\n",
      "The limits of data perating to rent paid by the houesholds is +/- : 335.93\n"
     ]
    }
   ],
   "source": [
    "x = [1550, 1700, 900, 850, 1000, 950]\n",
    "Avg_rent_paid = np.mean(x)\n",
    "std_dev = np.std(x)\n",
    "\n",
    "print('Average rent paid by the householdsfor the sample information collected :  {:0.2f}'.format(Avg_rent_paid))\n",
    "print('The limits of data perating to rent paid by the houesholds is +/- : {:0.2f}'.format(std_dev))"
   ]
  },
  {
   "cell_type": "code",
   "execution_count": null,
   "metadata": {},
   "outputs": [],
   "source": [
    "#Other Way to solve the same Question\n",
    "#Task 1:You survey households in your area to find the average rent they are paying. Find the standard deviation from the following data:"
   ]
  },
  {
   "cell_type": "code",
   "execution_count": 8,
   "metadata": {},
   "outputs": [
    {
     "name": "stdout",
     "output_type": "stream",
     "text": [
      "335.92740617910624\n",
      "1158.3333333333333\n"
     ]
    }
   ],
   "source": [
    "import numpy as np\n",
    "print(np.std(np.array([1550, 1700, 900, 850, 1000, 950])))\n",
    "print(np.mean(np.array([1550, 1700, 900, 850, 1000, 950])))"
   ]
  },
  {
   "cell_type": "code",
   "execution_count": null,
   "metadata": {},
   "outputs": [],
   "source": [
    "#Task 1_2 : Find the variance for the following set of data representing trees in California (heights in feet):3, 21, 98, 203, 17, 9"
   ]
  },
  {
   "cell_type": "code",
   "execution_count": 14,
   "metadata": {},
   "outputs": [
    {
     "data": {
      "text/plain": [
       "5183.25"
      ]
     },
     "execution_count": 14,
     "metadata": {},
     "output_type": "execute_result"
    }
   ],
   "source": [
    "a = np.array([3, 21, 98, 203, 17, 9])\n",
    "np.var(a)"
   ]
  },
  {
   "cell_type": "code",
   "execution_count": 15,
   "metadata": {},
   "outputs": [],
   "source": [
    "#task1_3 :In a class on 100 stude nts, 80 students passed in all subjects, 10 failed in one subject, 7 failed in two subjects and 3 failed in three subjects. Find the probability distribution of the variable for number of subjects a student from the given class has failed in"
   ]
  },
  {
   "cell_type": "code",
   "execution_count": 17,
   "metadata": {},
   "outputs": [
    {
     "name": "stdout",
     "output_type": "stream",
     "text": [
      "Probability failed in no subjects:  0.8\n",
      "Probability failed in 1 subject:  0.1\n",
      "Probability failed in 2 subjects:  0.07\n",
      "Probability failed in 3 subjects:  0.03\n"
     ]
    }
   ],
   "source": [
    "#import matplotlib.pyplot as plt\n",
    "#%matplotlib inline\n",
    "n_students = 100\n",
    "passed_all = 80\n",
    "failed_one = 10\n",
    "failed_two = 7\n",
    "failed_three = 3\n",
    "\n",
    "num_students_not_passed_all = n_students - passed_all\n",
    "prob_failed_none = passed_all / n_students\n",
    "prob_failed_in_one = failed_one/n_students\n",
    "prob_failed_in_two = failed_two/n_students\n",
    "prob_failed_in_three = failed_three/n_students\n",
    "\n",
    "print(\"Probability failed in no subjects: \",prob_failed_none)\n",
    "print(\"Probability failed in 1 subject: \",prob_failed_in_one)\n",
    "print(\"Probability failed in 2 subjects: \",prob_failed_in_two)\n",
    "print(\"Probability failed in 3 subjects: \",prob_failed_in_three)"
   ]
  },
  {
   "cell_type": "code",
   "execution_count": null,
   "metadata": {},
   "outputs": [],
   "source": [
    "#Task 2_1 : A test is conducted which is consisting of 20 MCQs (multiple choices questions) with every MCQ having its four options out of which only one is correct. Determine the probability that a person undertaking that test has answered exactly 5 questions wrong.\n"
   ]
  },
  {
   "cell_type": "code",
   "execution_count": 5,
   "metadata": {},
   "outputs": [],
   "source": [
    "#Solution Steps:\n",
    "    #Import scipy\n",
    "    #Define Number of questions, n\n",
    "    #Define probability (p) of wrong answer for a question\n",
    "    #Define Binomial Distribution by calling binom method of scipy\n",
    "    #Define Number of failed answers\n",
    "    #Get probability by calling pmf method on hh and by passing Number of failed answers as input\n",
    "    #Print probability\n",
    "\n",
    "import scipy.stats as ss "
   ]
  },
  {
   "cell_type": "code",
   "execution_count": 6,
   "metadata": {},
   "outputs": [
    {
     "name": "stdout",
     "output_type": "stream",
     "text": [
      "probability of exactly 5 wrong answers = 3.4264958230778435e-06\n"
     ]
    }
   ],
   "source": [
    "# Number of questions\n",
    "n = 20\n",
    "\n",
    "# probability of wrong answer for a question\n",
    "p = 3./4\n",
    "\n",
    "# Define Binomial Distribution by calling binom method of scipy\n",
    "hh = ss.binom(n, p)\n",
    "\n",
    "# Number of failed answers\n",
    "no_failed_answers = 5\n",
    "\n",
    "# Get probability by calling pmf method on hh and by passing\n",
    "# Number of failed answers as input\n",
    "probability = hh.pmf(no_failed_answers)\n",
    "\n",
    "# Print the probability\n",
    "print(\"probability of exactly 5 wrong answers = \" + str(probability))"
   ]
  },
  {
   "cell_type": "code",
   "execution_count": null,
   "metadata": {},
   "outputs": [],
   "source": [
    "#2. A die marked A to E is rolled 50 times. Find the probability of getting a “D” exactly 5 times."
   ]
  },
  {
   "cell_type": "code",
   "execution_count": 7,
   "metadata": {},
   "outputs": [
    {
     "name": "stdout",
     "output_type": "stream",
     "text": [
      "Probability of getting excatly D in 5 throws out of  50 number of trails conducted is 0.2\n"
     ]
    }
   ],
   "source": [
    "n=50\n",
    "k=5\n",
    "failures = n-k\n",
    "p_s=1/k\n",
    "p_f=1-p_s\n",
    "print(\"Probability of getting excatly D in {} throws out of {} number of trails conducted is {}\".format(k,n,p_s))\n"
   ]
  },
  {
   "cell_type": "code",
   "execution_count": null,
   "metadata": {},
   "outputs": [],
   "source": [
    "#3 :Two balls are drawn at random in succession without replacement from an urn containing 4 red balls and 6 black balls. Find the probabilities of all the possible outcomes."
   ]
  },
  {
   "cell_type": "code",
   "execution_count": 8,
   "metadata": {},
   "outputs": [],
   "source": [
    "\n",
    "\n",
    "red_ball = 4\n",
    "black_ball = 6\n",
    "total_balls = red_ball + black_ball\n",
    "\n",
    "#Sample of possible outcomes  = {R_ballB_ball,B_ballR_ball,B_ballB_bal,R_ballR_ball}\n",
    "\n",
    "#So the chances of picking a red ball  first is  4 out of 10 balls. So the probability is 4/10.\n",
    "p_first_red_ball = red_ball / total_balls\n",
    "\n",
    "#So the chances of picking a black ball second is 6 out of 9 balls. So the probability is 6/9.\n",
    "p_second_black_ball  = black_ball / (total_balls - 1)\n",
    "\n",
    "\n",
    "#So the chances of picking a black ball  first is  6 out of 10 balls. So the probability is 6/10.\n",
    "p_first_black_ball = black_ball / total_balls\n",
    "\n",
    "#So the chances of picking a red ball second is 4 out of 9 balls. So the probability is 4/9.\n",
    "p_second_red_ball  = red_ball / (total_balls - 1)\n",
    "#Probability that both the balls are red is computed here as:\n",
    "#= Total number of ways to select 2 red balls from the 4 red balls / \n",
    "#    Total number of ways to select 2 black  balls from 10 total balls\n",
    "\n",
    "P_2_r  = (factorial(red_ball) / (factorial(2) * factorial(red_ball - 2))) / (factorial(total_balls) / factorial(2)* factorial(total_balls - 2))\n",
    "\n",
    "#Probability that both the balls are black is computed here as:\n",
    "#= Total number of ways to select 2 black balls from the 6 red balls / \n",
    "#    Total number of ways to select 2 black  balls from 10 total balls\n",
    "\n",
    "P_2_b  = (factorial(black_ball) / (factorial(2) * factorial(black_ball -2))) / (factorial(total_balls) / factorial(2)* factorial(total_balls - 2))\n",
    "\n"
   ]
  },
  {
   "cell_type": "code",
   "execution_count": 9,
   "metadata": {},
   "outputs": [
    {
     "name": "stdout",
     "output_type": "stream",
     "text": [
      "The probabilities of all possible outcomes of picking Red ball first,Black Ball second is (0.40,0.67)\n"
     ]
    }
   ],
   "source": [
    "print(\"The probabilities of all possible outcomes of picking Red ball first,Black Ball second is ({:0.2f},{:0.2f})\".format(p_first_red_ball,p_second_black_ball))"
   ]
  },
  {
   "cell_type": "code",
   "execution_count": 10,
   "metadata": {},
   "outputs": [
    {
     "name": "stdout",
     "output_type": "stream",
     "text": [
      "The probabilities of all possible outcomes of picking black ball first,red Ball second is (0.60,0.44)\n"
     ]
    }
   ],
   "source": [
    "print(\"The probabilities of all possible outcomes of picking black ball first,red Ball second is ({:0.2f},{:0.2f})\".format(p_first_black_ball,p_second_red_ball))"
   ]
  },
  {
   "cell_type": "code",
   "execution_count": null,
   "metadata": {},
   "outputs": [],
   "source": []
  }
 ],
 "metadata": {
  "kernelspec": {
   "display_name": "Python 3",
   "language": "python",
   "name": "python3"
  },
  "language_info": {
   "codemirror_mode": {
    "name": "ipython",
    "version": 3
   },
   "file_extension": ".py",
   "mimetype": "text/x-python",
   "name": "python",
   "nbconvert_exporter": "python",
   "pygments_lexer": "ipython3",
   "version": "3.6.4"
  }
 },
 "nbformat": 4,
 "nbformat_minor": 2
}
